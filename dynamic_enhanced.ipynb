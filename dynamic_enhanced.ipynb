{
 "cells": [
  {
   "cell_type": "code",
   "execution_count": null,
   "id": "initial_id",
   "metadata": {
    "collapsed": true
   },
   "outputs": [],
   "source": [
    "import pandas as pd\n",
    "from sklearn.ensemble import RandomForestRegressor\n",
    "from sklearn.model_selection import train_test_split\n",
    "data = pd.read_csv('dynamic_pricing.csv')\n",
    "data.head()"
   ]
  },
  {
   "metadata": {},
   "cell_type": "code",
   "outputs": [],
   "execution_count": null,
   "source": "data.describe()",
   "id": "a9c1436746cbbc8e"
  },
  {
   "metadata": {},
   "cell_type": "code",
   "outputs": [],
   "execution_count": null,
   "source": [
    "import numpy as np\n",
    "\n",
    "high_demand_percentile = 75\n",
    "low_demand_percentile = 25\n",
    "\n",
    "data['demand_multiplier'] = np.where(\n",
    "    data['Number_of_Riders'] > np.percentile(data['Number_of_Riders'], high_demand_percentile),\n",
    "    data['Number_of_Riders'] / np.percentile(data['Number_of_Riders'], high_demand_percentile),\n",
    "    data['Number_of_Riders'] / np.percentile(data['Number_of_Riders'], low_demand_percentile))\n",
    "\n",
    "high_supply_percentile = 75\n",
    "low_supply_percentile = 25\n",
    "\n",
    "data['supply_multiplier'] = np.where(\n",
    "    data['Number_of_Drivers'] > np.percentile(data['Number_of_Drivers'], low_supply_percentile),\n",
    "    np.percentile(data['Number_of_Drivers'], high_supply_percentile) / data['Number_of_Drivers'],\n",
    "    np.percentile(data['Number_of_Drivers'], low_supply_percentile) / data['Number_of_Drivers'])\n",
    "\n",
    "demand_threshold_high = 1.2\n",
    "demand_threshold_low = 0.8\n",
    "supply_threshold_high = 0.8\n",
    "supply_threshold_low = 1.2\n",
    "\n",
    "data['adjusted_ride_cost'] = data['Historical_Cost_of_Ride'] * (\n",
    "        np.maximum(data['demand_multiplier'], demand_threshold_low) *\n",
    "        np.maximum(data['supply_multiplier'], supply_threshold_high)\n",
    ")"
   ],
   "id": "83e2f48e3716a33b"
  },
  {
   "metadata": {},
   "cell_type": "code",
   "outputs": [],
   "execution_count": null,
   "source": [
    "data['profit_percentage'] = ((data['adjusted_ride_cost'] - data['Historical_Cost_of_Ride']) / data[\n",
    "    'Historical_Cost_of_Ride']) * 100\n",
    "\n",
    "profitable_rides = data[data['profit_percentage'] > 0]\n",
    "\n",
    "loss_rides = data[data['profit_percentage'] < 0]\n",
    "\n",
    "import plotly.graph_objects as go\n",
    "\n",
    "profitable_count = len(profitable_rides)\n",
    "loss_count = len(loss_rides)\n",
    "\n",
    "labels = ['Profitable Rides', 'Loss Rides']\n",
    "values = [profitable_count, loss_count]\n",
    "\n",
    "fig = go.Figure(data=[go.Pie(labels=labels, values=values, hole=0.4)])\n",
    "fig.update_layout(title='Profitability of Rides (Dynamic Pricing vs Historical Pricing)')\n",
    "fig.show()"
   ],
   "id": "da3315d5e98855ad"
  },
  {
   "metadata": {},
   "cell_type": "code",
   "outputs": [],
   "execution_count": null,
   "source": [
    "import pandas as pd\n",
    "import numpy as np\n",
    "from sklearn.preprocessing import StandardScaler\n",
    "\n",
    "\n",
    "def data_preprocessing_pipeline(data):\n",
    "    numeric_features = data.select_dtypes(include=['float', 'int']).columns\n",
    "    categorical_features = data.select_dtypes(include=['object']).columns\n",
    "\n",
    "    data[numeric_features] = data[numeric_features].fillna(data[numeric_features].mean())\n",
    "\n",
    "    for feature in numeric_features:\n",
    "        Q1 = data[feature].quantile(0.25)\n",
    "        Q3 = data[feature].quantile(0.75)\n",
    "        IQR = Q3 - Q1\n",
    "        lower_bound = Q1 - (1.5 * IQR)\n",
    "        upper_bound = Q3 + (1.5 * IQR)\n",
    "        data[feature] = np.where((data[feature] < lower_bound) | (data[feature] > upper_bound),\n",
    "                                 data[feature].mean(), data[feature])\n",
    "\n",
    "        data[categorical_features] = data[categorical_features].fillna(data[categorical_features].mode().iloc[0])\n",
    "\n",
    "        return data"
   ],
   "id": "283d77064d6759de"
  },
  {
   "metadata": {},
   "cell_type": "code",
   "outputs": [],
   "execution_count": null,
   "source": "data[\"Vehicle_Type\"] = data[\"Vehicle_Type\"].map({\"Premium\": 1, \"Economy\": 0})",
   "id": "7c6008814c56ec62"
  },
  {
   "metadata": {},
   "cell_type": "code",
   "outputs": [],
   "execution_count": null,
   "source": "data[\"Time_of_Booking\"] = data[\"Time_of_Booking\"].map({\"Afternoon\": 0, \"Evening\": 1, \"Morning\": 2, \"Night\": 3})",
   "id": "f809f539218752ec"
  },
  {
   "metadata": {},
   "cell_type": "code",
   "outputs": [],
   "execution_count": null,
   "source": [
    "from sklearn.model_selection import train_test_split\n",
    "\n",
    "x = np.array(\n",
    "    data[[\"Number_of_Riders\", \"Number_of_Drivers\", \"Vehicle_Type\", \"Time_of_Booking\", \"Expected_Ride_Duration\"]])\n",
    "y = np.array(data[[\"adjusted_ride_cost\"]])\n",
    "\n",
    "x_train, x_test, y_train, y_test = train_test_split(x,\n",
    "                                                    y,\n",
    "                                                    test_size=0.2,\n",
    "                                                    random_state=42)\n",
    "\n",
    "y_train = y_train.ravel()\n",
    "y_test = y_test.ravel()\n",
    "\n",
    "from sklearn.ensemble import RandomForestRegressor\n",
    "\n",
    "model = RandomForestRegressor()\n",
    "model.fit(x_train, y_train)"
   ],
   "id": "9e9097a968807448"
  },
  {
   "metadata": {},
   "cell_type": "code",
   "outputs": [],
   "execution_count": null,
   "source": [
    "def predict_price(number_of_riders, number_of_drivers, vehicle_type, time_of_booking, Expected_Ride_Duration):\n",
    "    vehicle_type_numeric = get_vehicle_type_numeric(vehicle_type)\n",
    "    if vehicle_type_numeric is None:\n",
    "        raise ValueError(\"Invalid vehicle type\")\n",
    "\n",
    "    time_of_booking_numeric = get_time_of_booking_numeric(time_of_booking)\n",
    "    if time_of_booking_numeric is None:\n",
    "        raise ValueError(\"Invalid time of booking\")\n",
    "\n",
    "    input_data = np.array(\n",
    "        [[number_of_riders, number_of_drivers, vehicle_type_numeric, time_of_booking_numeric, Expected_Ride_Duration]])\n",
    "    predicted_price = model.predict(input_data)\n",
    "    return predicted_price"
   ],
   "id": "8632b8e4400fbae8"
  }
 ],
 "metadata": {
  "kernelspec": {
   "display_name": "Python 3",
   "language": "python",
   "name": "python3"
  },
  "language_info": {
   "codemirror_mode": {
    "name": "ipython",
    "version": 2
   },
   "file_extension": ".py",
   "mimetype": "text/x-python",
   "name": "python",
   "nbconvert_exporter": "python",
   "pygments_lexer": "ipython2",
   "version": "2.7.6"
  }
 },
 "nbformat": 4,
 "nbformat_minor": 5
}
